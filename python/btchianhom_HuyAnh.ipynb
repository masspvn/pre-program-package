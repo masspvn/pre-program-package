{
 "cells": [
  {
   "cell_type": "code",
   "execution_count": 9,
   "metadata": {},
   "outputs": [
    {
     "name": "stdout",
     "output_type": "stream",
     "text": [
      "Group  1: Diep, Phuc\n",
      "Group  2: Nhat Long, Huy Anh\n",
      "Group  3: Bao, An\n",
      "Group  4: Thien Long, Tuan\n",
      "Group  5: Khoi, Lan\n"
     ]
    }
   ],
   "source": [
    "import random\n",
    "a = ['Tuan','Lan','Thien Long','Diep','Huy Anh','Khoi','Phuc','An','Nhat Long','Bao']\n",
    "random.shuffle(a)\n",
    "i=0;d=1\n",
    "while i<10:\n",
    "    print(\"Group \",d,end=': ')\n",
    "    print(a[i],end=', ')\n",
    "    print(a[i+1],end='\\n')\n",
    "    i=i+2\n",
    "    d=d+1"
   ]
  },
  {
   "cell_type": "code",
   "execution_count": null,
   "metadata": {
    "collapsed": true
   },
   "outputs": [],
   "source": []
  },
  {
   "cell_type": "code",
   "execution_count": null,
   "metadata": {
    "collapsed": true
   },
   "outputs": [],
   "source": []
  }
 ],
 "metadata": {
  "kernelspec": {
   "display_name": "Python 3",
   "language": "python",
   "name": "python3"
  },
  "language_info": {
   "codemirror_mode": {
    "name": "ipython",
    "version": 3
   },
   "file_extension": ".py",
   "mimetype": "text/x-python",
   "name": "python",
   "nbconvert_exporter": "python",
   "pygments_lexer": "ipython3",
   "version": "3.6.1"
  }
 },
 "nbformat": 4,
 "nbformat_minor": 2
}
