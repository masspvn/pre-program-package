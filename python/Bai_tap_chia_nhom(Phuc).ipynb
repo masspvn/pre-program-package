{
 "cells": [
  {
   "cell_type": "code",
   "execution_count": 82,
   "metadata": {},
   "outputs": [
    {
     "name": "stdout",
     "output_type": "stream",
     "text": [
      "Group 1 : Huy Anh, Lan\n",
      "Group 2 : Phuc, Tuan\n",
      "Group 3 : Khoi, Nhat Long\n",
      "Group 4 : Bao, An\n",
      "Group 5 : Diep, Thien Long\n"
     ]
    }
   ],
   "source": [
    "import random\n",
    "students={1:\"Phuc\",2: \"Lan\", 3:\"Thien Long\",4: \"Bao\", 5: \"An\", \n",
    "          6: \"Tuan\",7: \"Khoi\",8: \"Diep\",9: \"Nhat Long\",10: \"Huy Anh\"}\n",
    "k=9\n",
    "num=list(range(0,10)) \n",
    "for i in range(5):\n",
    "    x= random.randint(0,k)\n",
    "    z=\"\"\n",
    "    z=\"Group \"+str(i+1)+\" : \" +students[num[x]+1]+\", \"\n",
    "    num.remove(num[x])\n",
    "    k-=1\n",
    "    x= random.randint(0,k)\n",
    "    z+= students[num[x]+1]\n",
    "    k-=1;\n",
    "    num.remove(num[x])\n",
    "    print(z)"
   ]
  },
  {
   "cell_type": "code",
   "execution_count": null,
   "metadata": {},
   "outputs": [],
   "source": []
  },
  {
   "cell_type": "code",
   "execution_count": null,
   "metadata": {
    "scrolled": true
   },
   "outputs": [],
   "source": []
  },
  {
   "cell_type": "code",
   "execution_count": null,
   "metadata": {
    "collapsed": true
   },
   "outputs": [],
   "source": []
  }
 ],
 "metadata": {
  "kernelspec": {
   "display_name": "Python 3",
   "language": "python",
   "name": "python3"
  },
  "language_info": {
   "codemirror_mode": {
    "name": "ipython",
    "version": 3
   },
   "file_extension": ".py",
   "mimetype": "text/x-python",
   "name": "python",
   "nbconvert_exporter": "python",
   "pygments_lexer": "ipython3",
   "version": "3.5.3"
  }
 },
 "nbformat": 4,
 "nbformat_minor": 2
}
