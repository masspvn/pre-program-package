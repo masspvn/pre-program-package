{
 "cells": [
  {
   "cell_type": "code",
   "execution_count": 1,
   "metadata": {},
   "outputs": [
    {
     "name": "stdout",
     "output_type": "stream",
     "text": [
      "Group  1 :  Thu An , Huy Anh\n",
      "Group  2 :  Nhat Long , Hoang Phuc\n",
      "Group  3 :  Ngoc Diep , Thien Long\n",
      "Group  4 :  Gia Bao , Dang Khoi\n",
      "Group  5 :  Ngoc Lan , Minh Tuan\n"
     ]
    }
   ],
   "source": [
    "import random\n",
    "a = [\"Ngoc Diep\", \"Gia Bao\" , \"Nhat Long\" , \"Huy Anh\", \"Ngoc Lan\" , \"Thu An\" , \"Dang Khoi\" , \"Minh Tuan\" , \"Thien Long\" , \"Hoang Phuc\"]\n",
    "random.shuffle(a) \n",
    "for n in range(1, 6):\n",
    "    print(\"Group \", n, \": \", a[2*n - 2],\",\", a[2*n - 1])"
   ]
  },
  {
   "cell_type": "code",
   "execution_count": null,
   "metadata": {
    "collapsed": true
   },
   "outputs": [],
   "source": []
  },
  {
   "cell_type": "code",
   "execution_count": null,
   "metadata": {
    "collapsed": true
   },
   "outputs": [],
   "source": []
  }
 ],
 "metadata": {
  "kernelspec": {
   "display_name": "Python 3",
   "language": "python",
   "name": "python3"
  },
  "language_info": {
   "codemirror_mode": {
    "name": "ipython",
    "version": 3
   },
   "file_extension": ".py",
   "mimetype": "text/x-python",
   "name": "python",
   "nbconvert_exporter": "python",
   "pygments_lexer": "ipython3",
   "version": "3.6.1"
  }
 },
 "nbformat": 4,
 "nbformat_minor": 2
}
