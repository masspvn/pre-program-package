{
 "cells": [
  {
   "cell_type": "code",
   "execution_count": 1,
   "metadata": {
    "collapsed": true
   },
   "outputs": [],
   "source": [
    "import random"
   ]
  },
  {
   "cell_type": "code",
   "execution_count": 2,
   "metadata": {},
   "outputs": [],
   "source": [
    "def random_list(list_name):\n",
    "    tmp_list_name = list_name\n",
    "    random.shuffle(tmp_list_name)\n",
    "\n",
    "    random_list = []\n",
    "\n",
    "    for i in range(len(list_name) // 2):\n",
    "        random_list.append([list_name[2*i], list_name[2*i + 1]])\n",
    "        \n",
    "        if list_name[2*i] == 'himself':\n",
    "            list_name[2*i], list_name[2*i + 1] = list_name[2*i + 1], list_name[2*i]\n",
    "\n",
    "    return random_list"
   ]
  },
  {
   "cell_type": "code",
   "execution_count": 3,
   "metadata": {
    "collapsed": true
   },
   "outputs": [],
   "source": [
    "def print_group(list_group):\n",
    "    for i in range(len(list_group)):\n",
    "        print(\"Group %d: %s, %s\" % (i + 1, \n",
    "                                    list_group[i][0], \n",
    "                                    list_group[i][-1]))"
   ]
  },
  {
   "cell_type": "code",
   "execution_count": 4,
   "metadata": {},
   "outputs": [
    {
     "name": "stdout",
     "output_type": "stream",
     "text": [
      "Group 1: Long, Tuan\n",
      "Group 2: Thien Long, An\n",
      "Group 3: Lu, himself\n",
      "Group 4: Cuu, Khoi\n",
      "Group 5: Lan, dIP\n",
      "Group 6: Hoang, Phuc\n"
     ]
    }
   ],
   "source": [
    "list_student_MaSSP_IT = ['Tuan', 'Lan', 'Thien Long', \n",
    "                         'dIP', 'Cuu', 'Khoi', 'Phuc', \n",
    "                         'An', 'Long', 'Lu', 'Hoang']\n",
    "\n",
    "if len(list_student_MaSSP_IT) % 2:\n",
    "    list_student_MaSSP_IT.append('himself')\n",
    "\n",
    "list_group_MaSSP_IT = random_list(list_student_MaSSP_IT)\n",
    "print_group(list_group_MaSSP_IT)"
   ]
  },
  {
   "cell_type": "code",
   "execution_count": null,
   "metadata": {
    "collapsed": true
   },
   "outputs": [],
   "source": []
  }
 ],
 "metadata": {
  "kernelspec": {
   "display_name": "Python 3",
   "language": "python",
   "name": "python3"
  },
  "language_info": {
   "codemirror_mode": {
    "name": "ipython",
    "version": 3
   },
   "file_extension": ".py",
   "mimetype": "text/x-python",
   "name": "python",
   "nbconvert_exporter": "python",
   "pygments_lexer": "ipython3",
   "version": "3.5.3"
  }
 },
 "nbformat": 4,
 "nbformat_minor": 2
}
