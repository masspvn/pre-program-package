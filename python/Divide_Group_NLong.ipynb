{
 "cells": [
  {
   "cell_type": "code",
   "execution_count": 1,
   "metadata": {
    "collapsed": true
   },
   "outputs": [],
   "source": [
    "import random"
   ]
  },
  {
   "cell_type": "code",
   "execution_count": 2,
   "metadata": {
    "collapsed": true
   },
   "outputs": [],
   "source": [
    "def random_list(list_name):\n",
    "    tmp_list_name = list_name\n",
    "    random.shuffle(tmp_list_name)\n",
    "\n",
    "    random_list = []\n",
    "\n",
    "    for i in range(len(list_name) // 2):\n",
    "        random_list.append([list_name[2*i], list_name[2*i + 1]])\n",
    "\n",
    "    return random_list"
   ]
  },
  {
   "cell_type": "code",
   "execution_count": 3,
   "metadata": {
    "collapsed": true
   },
   "outputs": [],
   "source": [
    "def print_group(list_group):\n",
    "    for i in range(len(list_group)):\n",
    "        print(\"Group %d: %s, %s\" % (i + 1, list_group[i][0], list_group[i][-1]))"
   ]
  },
  {
   "cell_type": "code",
   "execution_count": 8,
   "metadata": {},
   "outputs": [
    {
     "name": "stdout",
     "output_type": "stream",
     "text": [
      "Group 1: Lu, Khoi\n",
      "Group 2: An, Phuc\n",
      "Group 3: Long, dIP\n",
      "Group 4: Thien Long, Cuu\n",
      "Group 5: Tuan, Lan\n"
     ]
    }
   ],
   "source": [
    "list_MaSSP_IT = ['Tuan', 'Lan', 'Thien Long', 'dIP', 'Cuu', 'Khoi', 'Phuc', 'An', 'Long', 'Lu']\n",
    "list_group_MaSSP_IT = random_list(list_MaSSP_IT)\n",
    "print_group(list_group_MaSSP_IT)"
   ]
  },
  {
   "cell_type": "code",
   "execution_count": null,
   "metadata": {
    "collapsed": true
   },
   "outputs": [],
   "source": []
  },
  {
   "cell_type": "code",
   "execution_count": null,
   "metadata": {
    "collapsed": true
   },
   "outputs": [],
   "source": []
  }
 ],
 "metadata": {
  "kernelspec": {
   "display_name": "Python 3",
   "language": "python",
   "name": "python3"
  },
  "language_info": {
   "codemirror_mode": {
    "name": "ipython",
    "version": 3
   },
   "file_extension": ".py",
   "mimetype": "text/x-python",
   "name": "python",
   "nbconvert_exporter": "python",
   "pygments_lexer": "ipython3",
   "version": "3.5.3"
  }
 },
 "nbformat": 4,
 "nbformat_minor": 2
}
