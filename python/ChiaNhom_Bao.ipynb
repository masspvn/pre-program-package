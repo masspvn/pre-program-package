{
 "cells": [
  {
   "cell_type": "code",
   "execution_count": 1,
   "metadata": {},
   "outputs": [
    {
     "name": "stdout",
     "output_type": "stream",
     "text": [
      "Group 1: Thien Long, Phuc\n",
      "Group 2: Bao, An\n",
      "Group 3: Huy Anh, Nhat Long\n",
      "Group 4: Diep, Lan\n",
      "Group 5: Khoi, Tuan\n"
     ]
    }
   ],
   "source": [
    "import numpy as np\n",
    "\n",
    "#Initialize list and shuffle\n",
    "people = [\"Tuan\", \"Lan\", \"Thien Long\", \"Diep\", \"Huy Anh\", \n",
    "          \"Khoi\", \"Phuc\", \"An\", \"Nhat Long\", \"Bao\"]\n",
    "np.random.shuffle(people)\n",
    "\n",
    "#Get people length\n",
    "people_count = len(people)\n",
    "\n",
    "#If people_count is odd, add an element to make it even\n",
    "if (people_count % 2 != 0):\n",
    "    people.append(\"lam viec mot minh :'( \")\n",
    "    people_count += 1\n",
    "\n",
    "#Use floor division (div)\n",
    "group_count = people_count // 2\n",
    "\n",
    "#Print result\n",
    "for i in range(0, group_count):\n",
    "    print(\"Group {0}: {1}, {2}\".format(i + 1, people[i * 2], people[i * 2 + 1]))"
   ]
  }
 ],
 "metadata": {
  "kernelspec": {
   "display_name": "Python 3",
   "language": "python",
   "name": "python3"
  },
  "language_info": {
   "codemirror_mode": {
    "name": "ipython",
    "version": 3
   },
   "file_extension": ".py",
   "mimetype": "text/x-python",
   "name": "python",
   "nbconvert_exporter": "python",
   "pygments_lexer": "ipython3",
   "version": "3.5.3"
  }
 },
 "nbformat": 4,
 "nbformat_minor": 2
}
