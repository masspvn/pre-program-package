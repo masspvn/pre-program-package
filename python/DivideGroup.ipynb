{
 "cells": [
  {
   "cell_type": "code",
   "execution_count": 17,
   "metadata": {
    "collapsed": false
   },
   "outputs": [
    {
     "name": "stdout",
     "output_type": "stream",
     "text": [
      "Group 1: Diep, Huy Anh.\n",
      "Group 2: Nhat Long, Thien Long.\n",
      "Group 3: Lan, Phuc.\n",
      "Group 4: An, Tuan.\n",
      "Group 5: Bao, Khoi.\n"
     ]
    }
   ],
   "source": [
    "import tensorflow as tf\n",
    "import numpy as np\n",
    "\n",
    "__name = np.random.permutation([\"Tuan\", \"Lan\", \"Thien Long\", \"Diep\", \"Huy Anh\", \"Khoi\", \"Phuc\", \"An\", \"Nhat Long\", \"Bao\"])\n",
    "\n",
    "for i in range(0, 5):\n",
    "    print (\"Group\", i+1, end = ': ')\n",
    "    print (__name[i*2], end = ', ')\n",
    "    print (__name[i*2+1], end = '.\\n')"
   ]
  },
  {
   "cell_type": "code",
   "execution_count": null,
   "metadata": {
    "collapsed": true
   },
   "outputs": [],
   "source": []
  }
 ],
 "metadata": {
  "anaconda-cloud": {},
  "kernelspec": {
   "display_name": "Python [conda env:tensorflow]",
   "language": "python",
   "name": "conda-env-tensorflow-py"
  },
  "language_info": {
   "codemirror_mode": {
    "name": "ipython",
    "version": 3
   },
   "file_extension": ".py",
   "mimetype": "text/x-python",
   "name": "python",
   "nbconvert_exporter": "python",
   "pygments_lexer": "ipython3",
   "version": "3.5.2"
  }
 },
 "nbformat": 4,
 "nbformat_minor": 1
}
