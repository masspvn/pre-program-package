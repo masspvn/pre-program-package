{
 "cells": [
  {
   "cell_type": "code",
   "execution_count": 4,
   "metadata": {
    "collapsed": true
   },
   "outputs": [],
   "source": [
    "import random\n",
    "import sys"
   ]
  },
  {
   "cell_type": "code",
   "execution_count": 1,
   "metadata": {},
   "outputs": [
    {
     "name": "stdout",
     "output_type": "stream",
     "text": [
      "Number of students: \n",
      "10\n",
      "Number of groups: \n",
      "5\n"
     ]
    }
   ],
   "source": [
    "print(\"Number of students: \")\n",
    "n = int(input())\n",
    "print(\"Number of groups: \")\n",
    "m = int(input())"
   ]
  },
  {
   "cell_type": "code",
   "execution_count": 2,
   "metadata": {},
   "outputs": [
    {
     "name": "stdout",
     "output_type": "stream",
     "text": [
      "Name of student 1 : \n",
      "Tuan\n",
      "Name of student 2 : \n",
      "Lan\n",
      "Name of student 3 : \n",
      "Thien Long\n",
      "Name of student 4 : \n",
      "Diep\n",
      "Name of student 5 : \n",
      "Huy Anh\n",
      "Name of student 6 : \n",
      "Khoi\n",
      "Name of student 7 : \n",
      "Phuc\n",
      "Name of student 8 : \n",
      "AN\n",
      "Name of student 9 : \n",
      "Nhat Long\n",
      "Name of student 10 : \n",
      "Bao\n"
     ]
    }
   ],
   "source": [
    "name = []\n",
    "for i in range(1,n+1):\n",
    "    print(\"Name of student \"+str(i)+\" : \")\n",
    "    name.append(input())"
   ]
  },
  {
   "cell_type": "code",
   "execution_count": 5,
   "metadata": {},
   "outputs": [
    {
     "name": "stdout",
     "output_type": "stream",
     "text": [
      "Group 1 : Bao, Phuc\n",
      "Group 2 : Huy Anh, Diep\n",
      "Group 3 : Lan, AN\n",
      "Group 4 : Tuan, Thien Long\n",
      "Group 5 : Khoi, Nhat Long\n"
     ]
    }
   ],
   "source": [
    "random.shuffle(name)\n",
    "tmp = name.copy()\n",
    "\n",
    "for i in range(1, n % m + 1):\n",
    "    sys.stdout.write(\"Group \" + str(i) + \" : \")\n",
    "    for j in range(int(n / m)):\n",
    "        sys.stdout.write(name.pop() + \", \") \n",
    "    print(name.pop())\n",
    "    \n",
    "for i in range(n % m + 1, m + 1):\n",
    "    sys.stdout.write(\"Group \" + str(i) + \" : \")\n",
    "    for j in range(int(n / m) - 1):\n",
    "        sys.stdout.write(name.pop() + \", \") \n",
    "    print(name.pop())\n",
    "    \n",
    "name = tmp"
   ]
  },
  {
   "cell_type": "code",
   "execution_count": null,
   "metadata": {
    "collapsed": true
   },
   "outputs": [],
   "source": []
  }
 ],
 "metadata": {
  "kernelspec": {
   "display_name": "Python 3",
   "language": "python",
   "name": "python3"
  },
  "language_info": {
   "codemirror_mode": {
    "name": "ipython",
    "version": 3
   },
   "file_extension": ".py",
   "mimetype": "text/x-python",
   "name": "python",
   "nbconvert_exporter": "python",
   "pygments_lexer": "ipython3",
   "version": "3.5.3"
  }
 },
 "nbformat": 4,
 "nbformat_minor": 1
}
