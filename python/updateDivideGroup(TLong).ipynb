{
 "cells": [
  {
   "cell_type": "code",
   "execution_count": 8,
   "metadata": {
    "collapsed": false
   },
   "outputs": [
    {
     "name": "stdout",
     "output_type": "stream",
     "text": [
      "Group 1: Huy Anh, Khoi.\n",
      "Group 2: Thien Long, Diep.\n",
      "Group 3: An, Bao.\n",
      "Group 4: Lan, Phuc.\n",
      "Group 5: Nhat Long, Tuan.\n"
     ]
    }
   ],
   "source": [
    "import tensorflow as tf\n",
    "import numpy as np\n",
    "\n",
    "ITgroup = np.random.permutation([\"Tuan\", \"Lan\", \"Thien Long\", \n",
    "                                 \"Diep\", \"Huy Anh\", \"Khoi\", \n",
    "                                 \"Phuc\", \"An\", \"Nhat Long\", \"Bao\"])\n",
    "\n",
    "for i in range(0, 5):\n",
    "    print ('Group {}: {}, {}.'.format(i+1, ITgroup[2*i], ITgroup[2*i+1]))"
   ]
  }
 ],
 "metadata": {
  "kernelspec": {
   "display_name": "Python [default]",
   "language": "python",
   "name": "python3"
  },
  "language_info": {
   "codemirror_mode": {
    "name": "ipython",
    "version": 3
   },
   "file_extension": ".py",
   "mimetype": "text/x-python",
   "name": "python",
   "nbconvert_exporter": "python",
   "pygments_lexer": "ipython3",
   "version": "3.5.2"
  }
 },
 "nbformat": 4,
 "nbformat_minor": 1
}
